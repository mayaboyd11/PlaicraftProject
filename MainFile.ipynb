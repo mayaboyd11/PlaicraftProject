{
 "cells": [
  {
   "cell_type": "code",
   "execution_count": null,
   "id": "c6d033a0-4b96-4b89-a6de-8a6ecda786cb",
   "metadata": {},
   "outputs": [],
   "source": [
    "## sample code for commit "
   ]
  },
  {
   "cell_type": "code",
   "execution_count": null,
   "id": "db954685-1a6e-4d49-8ed4-a8e9fe48f02c",
   "metadata": {},
   "outputs": [],
   "source": []
  }
 ],
 "metadata": {
  "kernelspec": {
   "display_name": "R",
   "language": "R",
   "name": "ir"
  },
  "language_info": {
   "codemirror_mode": "r",
   "file_extension": ".r",
   "mimetype": "text/x-r-source",
   "name": "R",
   "pygments_lexer": "r",
   "version": "4.3.3"
  }
 },
 "nbformat": 4,
 "nbformat_minor": 5
}
